{
 "cells": [
  {
   "cell_type": "markdown",
   "metadata": {},
   "source": [
    "# Simulation of Urban Agriculture\n"
   ]
  },
  {
   "cell_type": "markdown",
   "metadata": {},
   "source": [
    "\n",
    "In the following exercise, we will create a simulation of an efficient trade model for self-produced goods. The model will consider consumer preferences and calculate the social utility of these goods based on all individual preferences. This involves calculating the price of the social utility for each good and the total production. A monetary base is then computed, and a percentage of it is distributed to individuals using the same parameters, taking into account their individual production. Finally, the model simulates various production scenarios with the aim of minimizing the total remaining balance for all individuals."
   ]
  },
  {
   "cell_type": "markdown",
   "metadata": {},
   "source": [
    "## Individuals\n",
    "\n",
    "Each individual is has two inmutable variables in the model: **preferences matrix** and **production space**. Although this two can change in real life for the moment they will stay inmutable. "
   ]
  },
  {
   "cell_type": "markdown",
   "metadata": {},
   "source": [
    "\n",
    "### Preferences Matrix\n",
    "\n",
    "Given $k$ preferences over $n$ goods, we will construct a preference matrix with dimensions $n \\times k$. To simplify calculations, we will work with a square matrix by taking $n$ preferences. Each column of the preference matrix represents a good, and each row represents a normalized basket of preferences. We assume that all these preference baskets provide the same utility to the individual and are calculated on a 100-point preference system (assigning a value out of 100 points to each good). It's important to note that this preference matrix does not assume rationality among preferences and offers a different approach to understanding market dynamics."
   ]
  },
  {
   "cell_type": "markdown",
   "metadata": {},
   "source": [
    "### Production Space\n",
    "\n",
    "Additionally,the production space represents the amount of space each individual can allocate for production. We will assume that each individual's production space is fully utilized for each term."
   ]
  },
  {
   "cell_type": "markdown",
   "metadata": {},
   "source": [
    "\n",
    "On the other hand, all individuals have three time-dependent variables: a **money balance** and a **production vector**, and a space occupation vector."
   ]
  },
  {
   "cell_type": "markdown",
   "metadata": {},
   "source": [
    "### Money Balance\n",
    "\n",
    "The money balance begans in $0$ at $t = 0$ and accumulates over time."
   ]
  },
  {
   "cell_type": "markdown",
   "metadata": {},
   "source": [
    "### Production Vector\n",
    "\n",
    "The production vector is a variable that indicates how the space is occupied and how much time is remaining for the production of each good."
   ]
  },
  {
   "cell_type": "markdown",
   "metadata": {},
   "source": [
    "## Goods, Money and Prices\n",
    "\n",
    "For the purpose of complete the market dynamics of the model, we need to make certain assumptions about the goods in order to facilitate price and money injection calculations.\n"
   ]
  },
  {
   "cell_type": "markdown",
   "metadata": {},
   "source": [
    "### Goods\n",
    "\n",
    "All goods are compose by two main characteristics: space per unit and time of production\n",
    "\n",
    "#### Space per Unit\n",
    "\n",
    "The space per unit of a good is the space occupied to produce 100 grams of the product. We will use 100 grams as a unit reference. Each good has a different space per unit constant and it doesnt depend on any other factors. \n",
    "\n",
    "#### Time of Production\n",
    "\n",
    "At the same time, each product has a production time that depends on a gamma distribution $X \\sim \\Gamma(\\alpha, \\lambda)$\n",
    "where the parameters $\\alpha$ and $\\lambda$ are unique for each good. "
   ]
  },
  {
   "cell_type": "markdown",
   "metadata": {},
   "source": [
    "### Money \n",
    "\n",
    "Each period of time there is a money injection based on the goods produced and the social utily value of each good, first lets define social utily value of each good $a_j$ $j = 1,2 \\ldots, n$ for $r$ consumers with $k$ preferences and a preference matrix $M_{n \\times k} $:\n",
    "\n",
    "$$\n",
    "SUV_{a_j} = \\sum_{i = 1}^r \\sum_{j = 1}^k  M_{n \\times k}(a_j) \n",
    "$$\n",
    "\n",
    "where $ M_{n \\times k}(a_j)$ is an entry of the preference of each good $a_j$ in each basket of preference of each individual. With this and the production of each individual, we calculate the money injection $M_t$ of each period $t$, given $n$ types of goods where $P_i^{a_j}$ is the production of the good $a_j$ by the individual $i$: \n",
    "\n",
    "$$\n",
    "\n",
    "M_t = \\sum_{i = 1}^r \\sum_{h = 1}^n SUV(a_j) \\times P_i^{a_j}\n",
    "\n",
    "$$\n"
   ]
  }
 ],
 "metadata": {
  "kernelspec": {
   "display_name": "Python 3 (ipykernel)",
   "language": "python",
   "name": "python3"
  },
  "orig_nbformat": 4
 },
 "nbformat": 4,
 "nbformat_minor": 2
}
