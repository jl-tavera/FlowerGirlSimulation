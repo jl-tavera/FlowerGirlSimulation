{
 "cells": [
  {
   "cell_type": "markdown",
   "metadata": {},
   "source": [
    "# Simulation of Urban Agriculture\n"
   ]
  },
  {
   "cell_type": "markdown",
   "metadata": {},
   "source": [
    "\n",
    "In the following exercise, we will create a simulation of an efficient trade model for self-produced goods. The model will consider consumer preferences and calculate the social utility of these goods based on all individual preferences. This involves calculating the price of the social utility for each good and the total production. A monetary base is then computed, and a percentage of it is distributed to individuals using the same parameters, taking into account their individual production. Finally, the model simulates various production scenarios with the aim of minimizing the total remaining balance for all individuals."
   ]
  },
  {
   "cell_type": "markdown",
   "metadata": {},
   "source": [
    "## Individuals\n",
    "\n",
    "Each individual is has two inmutable variables in the model: **preferences matrix** and **production space**. Although this two can change in real life for the moment they will stay inmutable. "
   ]
  },
  {
   "cell_type": "markdown",
   "metadata": {},
   "source": [
    "\n",
    "### Preferences Matrix\n",
    "\n",
    "Given $k$ preferences over $n$ goods, we will construct a preference matrix with dimensions $n \\times k$. To simplify calculations, we will work with a square matrix by taking $n$ preferences. Each column of the preference matrix represents a good, and each row represents a normalized basket of preferences. We assume that all these preference baskets provide the same utility to the individual and are calculated on a 100-point preference system (assigning a value out of 100 points to each good). It's important to note that this preference matrix does not assume rationality among preferences and offers a different approach to understanding market dynamics."
   ]
  },
  {
   "cell_type": "markdown",
   "metadata": {},
   "source": [
    "### Production Space\n",
    "\n",
    "Additionally,the production space represents the amount of space each individual can allocate for production. We will assume that each individual's production space is fully utilized for each term."
   ]
  },
  {
   "cell_type": "markdown",
   "metadata": {},
   "source": [
    "\n",
    "On the other hand, all individuals have three time-dependent variables: a **money balance** and a **production vector**, and a space occupation vector."
   ]
  },
  {
   "cell_type": "markdown",
   "metadata": {},
   "source": [
    "### Money Balance\n",
    "\n",
    "The money balance begans in $0$ at $t = 0$ and accumulates over time."
   ]
  },
  {
   "cell_type": "markdown",
   "metadata": {},
   "source": [
    "### Production Vector\n",
    "\n",
    "The production vector is a variable that indicates how the space is occupied and how much time is remaining for the production of each good."
   ]
  },
  {
   "cell_type": "markdown",
   "metadata": {},
   "source": [
    "## Goods, Money and Prices\n",
    "\n",
    "For the purpose of complete the market dynamics of the model, we need to make certain assumptions about the goods in order to facilitate price and money injection calculations.\n"
   ]
  },
  {
   "cell_type": "markdown",
   "metadata": {},
   "source": [
    "### Goods\n",
    "\n",
    "All goods are compose by two main characteristics: space per unit and time of production\n",
    "\n",
    "#### Space per Unit\n",
    "\n",
    "The space per unit of a good is the space occupied to produce 100 grams of the product. We will use 100 grams as a unit reference. Each good has a different space per unit constant and it doesnt depend on any other factors. \n",
    "\n",
    "#### Time of Production\n",
    "\n",
    "At the same time, each product has a production time that depends on a gamma distribution $X \\sim \\Gamma(\\alpha, \\lambda)$\n",
    "where the parameters $\\alpha$ and $\\lambda$ are unique for each good. "
   ]
  },
  {
   "cell_type": "markdown",
   "metadata": {},
   "source": [
    "### Money \n",
    "\n",
    "Each period of time there is a money injection based on the goods produced and the social utily value of each good, first lets define social utily value of each good $a_j$ $j = 1,2 \\ldots, n$ for $r$ consumers with $k$ preferences and a preference matrix $M_{n \\times k} $:\n",
    "\n",
    "$$\n",
    "SUV_{a_j} = \\sum_{i = 1}^r \\sum_{j = 1}^k  M_{n \\times k}(a_j) \n",
    "$$\n",
    "\n",
    "where $ M_{n \\times k}(a_j)$ is an entry of the preference of each good $a_j$ in each basket of preference of each individual. With this and the production of each individual, we calculate the money injection $M_t$ of each period $t$, given $n$ types of goods where $P_i^{a_j}$ is the production of the good $a_j$ by the individual $i$: \n",
    "\n",
    "$$\n",
    "\n",
    "M_t = \\sum_{i = 1}^r \\sum_{h = 1}^n SUV(a_j) \\times P_i^{a_j}\n",
    "\n",
    "$$\n"
   ]
  },
  {
   "cell_type": "markdown",
   "metadata": {},
   "source": [
    "### Libraries\n"
   ]
  },
  {
   "cell_type": "code",
   "execution_count": 54,
   "metadata": {},
   "outputs": [],
   "source": [
    "import pandas as pd\n",
    "import numpy as np \n",
    "import random"
   ]
  },
  {
   "cell_type": "markdown",
   "metadata": {},
   "source": [
    "### Creating Goods"
   ]
  },
  {
   "cell_type": "code",
   "execution_count": 57,
   "metadata": {},
   "outputs": [
    {
     "name": "stdout",
     "output_type": "stream",
     "text": [
      "{'nombre': 'tomate', 'space': 3, 'gamma_parameters': (3.8415999999999997, 2.0894941886736507)}\n",
      "{'nombre': 'lechuga', 'space': 6, 'gamma_parameters': (3.8415999999999997, 2.2754655797090235)}\n",
      "{'nombre': 'cebolla', 'space': 2, 'gamma_parameters': (3.8416, 2.1805865432621525)}\n",
      "{'nombre': 'zanahoria', 'space': 3, 'gamma_parameters': (3.8415999999999992, 2.4553670009494253)}\n",
      "{'nombre': 'pepino', 'space': 0, 'gamma_parameters': (3.8416, 2.1600462204395487)}\n",
      "{'nombre': 'pimiento', 'space': 3, 'gamma_parameters': (3.8416, 2.1784636995068696)}\n",
      "{'nombre': 'ajo', 'space': 2, 'gamma_parameters': (3.8415999999999997, 2.299935070719395)}\n",
      "{'nombre': 'fresa', 'space': 6, 'gamma_parameters': (3.8416, 2.39370996251397)}\n",
      "{'nombre': 'albahaca', 'space': 1, 'gamma_parameters': (3.8415999999999997, 2.4371680975816306)}\n",
      "{'nombre': 'espinaca', 'space': 2, 'gamma_parameters': (3.8415999999999997, 2.1095218465301406)}\n",
      "{'nombre': 'cilantro', 'space': 0, 'gamma_parameters': (3.8415999999999997, 2.098137252878605)}\n",
      "{'nombre': 'champiñón', 'space': 2, 'gamma_parameters': (3.8415999999999997, 2.4204611877735136)}\n"
     ]
    }
   ],
   "source": [
    "\n",
    "# List of indoor-grown foods or vegetables in Spanish\n",
    "food_names = [\n",
    "    \"tomate\", \"lechuga\", \"cebolla\", \"zanahoria\", \"pepino\", \"pimiento\", \"ajo\",\n",
    "    \"fresa\", \"albahaca\", \"espinaca\", \"cilantro\", \"champiñón\"\n",
    "]\n",
    "\n",
    "# List to store the dictionaries\n",
    "food_data = []\n",
    "\n",
    "# Function to calculate shape and scale parameters for gamma distribution\n",
    "def calculate_parameters(mean):\n",
    "    # Calculate the scale parameter (theta) based on the mean and interval\n",
    "    sigma = 1  # Desired interval of +- 1 from the mean\n",
    "    theta = mean / ((1.96 * sigma) ** 2)\n",
    "\n",
    "    # Calculate the shape parameter (k) based on the mean and theta\n",
    "    k = mean / theta\n",
    "\n",
    "    return (k, theta)\n",
    "\n",
    "# Create 12 dictionaries\n",
    "for name in food_names:\n",
    "    space = random.randint(0, 6)  # Random integer between 0 and 6\n",
    "    mean = random.uniform(8, 10)  # Random mean between 8 and 10\n",
    "\n",
    "    # Calculate shape and scale parameters\n",
    "    shape, scale = calculate_parameters(mean)\n",
    "\n",
    "    # Create the dictionary\n",
    "    food_dict = {\n",
    "        \"nombre\": name,\n",
    "        \"space\": space,\n",
    "        \"gamma_parameters\": (shape, scale)\n",
    "    }\n",
    "\n",
    "    food_data.append(food_dict)\n",
    "\n",
    "# Print the list of dictionaries\n",
    "for food in food_data:\n",
    "    print(food)\n"
   ]
  },
  {
   "cell_type": "markdown",
   "metadata": {},
   "source": [
    "### Creating Individuals"
   ]
  },
  {
   "cell_type": "code",
   "execution_count": 71,
   "metadata": {},
   "outputs": [
    {
     "name": "stdout",
     "output_type": "stream",
     "text": [
      "[0. 0. 0. 0. 0. 0. 0. 0. 0. 0. 0. 0.]\n"
     ]
    }
   ],
   "source": [
    "class Individual :\n",
    "    def __init__(self):\n",
    "        self.dimension = 12\n",
    "        self.space = np.random.randint(1, 20)\n",
    "        self.savings = round(np.random.rand(), 2)\n",
    "        self.consumption = np.random.randint(2, 5)\n",
    "        self.variety = round(np.random.rand(), 2)\n",
    "        self.balance = 0\n",
    "        self.preferences_matrix = self.generate_preferences_matrix()\n",
    "        self.suv_vector = self.generate_suv_vector()\n",
    "        self.production_vector = np.zeros(self.dimension)\n",
    "\n",
    "    def generate_preferences_matrix(self):\n",
    "        n = self.dimension\n",
    "        if n <= 0:\n",
    "            raise ValueError(\"n must be a positive integer\")\n",
    "\n",
    "        matrix = np.random.rand(n, n)\n",
    "        matrix /= matrix.sum(axis=1, keepdims=True)\n",
    "        consumer_correction = self.space/self.consumption\n",
    "        matrix =  consumer_correction*matrix # Ensure rows sum to 1\n",
    "        matrix = np.round(matrix, 2)  # Round elements to two decimal places\n",
    "        return matrix\n",
    "    \n",
    "    def generate_suv_vector(self):\n",
    "        # Calculate the average of each column\n",
    "        average_vector = np.mean(self.preferences_matrix, axis=0)\n",
    "        return average_vector\n",
    "\n",
    "    \n",
    "individual = Individual ()\n",
    "print(individual.production_vector)"
   ]
  },
  {
   "cell_type": "code",
   "execution_count": 74,
   "metadata": {},
   "outputs": [
    {
     "name": "stdout",
     "output_type": "stream",
     "text": [
      "{'tomate': 0.308, 'lechuga': 0.323, 'cebolla': 0.321, 'zanahoria': 0.327, 'pepino': 0.346, 'pimiento': 0.341, 'ajo': 0.338, 'fresa': 0.35, 'albahaca': 0.353, 'espinaca': 0.356, 'cilantro': 0.357, 'champiñón': 0.323, 'space': 1404, 'population': 10}\n"
     ]
    }
   ],
   "source": [
    "def seed(size):\n",
    "    society = []\n",
    "    for _ in range(size):\n",
    "        individual_instance = Individual()\n",
    "        society.append(individual_instance)\n",
    "\n",
    "    return society\n",
    "\n",
    "def population_growth(society, rate):\n",
    "    population_size = len(society)\n",
    "    growth = np.ceil(population_size*rate)\n",
    "\n",
    "    for _ in growth:\n",
    "        individual_instance = Individual()\n",
    "        society.append(individual_instance)\n",
    "\n",
    "    return society\n",
    "\n",
    "\n",
    "def initial_parameters(society, food_data):\n",
    "    parameters = {}\n",
    "    total_space = 0 \n",
    "    \n",
    "    for index, food in enumerate(food_data):\n",
    "        food_suv = 0\n",
    "        name = food['nombre']\n",
    "\n",
    "        for individual in society:\n",
    "            total_space += individual.space\n",
    "            food_suv += individual.suv_vector[index]\n",
    "        parameters[name] = round(food_suv/len(society), 3)\n",
    "\n",
    "    total = sum(parameters.values())\n",
    "    parameters = {key: value / total for key, value in parameters.items()}\n",
    "    parameters['space'] = total_space\n",
    "    parameters['population'] = len(society)\n",
    "\n",
    "\n",
    "    return parameters\n",
    "\n",
    "def growth_parameters(parameters, society):\n",
    "    parameters = parameters\n",
    "    population = parameters['population']\n",
    "    new_population = len(society)\n",
    "    new_space = 0\n",
    "\n",
    "    for index, food in enumerate(food_data):\n",
    "        name = food['nombre']\n",
    "        food_suv = parameters[name]\n",
    "\n",
    "        for i in range(population, new_population):\n",
    "            individual = society[i]\n",
    "            new_space += individual.space\n",
    "            food_suv += individual.suv_vector[index]\n",
    "        parameters[name] = round(food_suv/len(society), 3)\n",
    "\n",
    "    total = sum(parameters.values())\n",
    "    parameters = {key: value / total for key, value in parameters.items()}\n",
    "    parameters['space'] = new_space\n",
    "    parameters['population'] = len(society)\n",
    "\n",
    "    return parameters\n",
    "\n",
    "\n",
    "def assign_production(society, parameters, food_data):\n",
    "    space = parameters['space']\n",
    "    space_per_good = {}\n",
    "    sorted_goods = sorted(parameters.keys(), reverse=True)\n",
    "    for good in sorted_goods:\n",
    "        suv = parameters[good]\n",
    "        space_per_good.append(np.floor(space*suv))\n",
    "        space_per_good[good] = suv\n",
    "\n",
    "    for individual in society:\n",
    "        space_individual = individual.space\n",
    "        goods_list = list(space_per_good.keys())\n",
    "        for index, good in enumerate(goods_list):\n",
    "            space_good = space_per_good[good]\n",
    "            if space_individual < space_good and space_good > 0:\n",
    "                space_per_good[good] = space_good - space_individual\n",
    "                \n",
    "                \n",
    "                \n",
    "        \n",
    "\n",
    "\n",
    "\n",
    "\n",
    "    \n",
    "\n",
    "        \n",
    "\n",
    "    \n",
    "    return None\n",
    "\n",
    "\n",
    "def money_injection(society, parameters):\n",
    "\n",
    "    return None\n",
    "\n",
    "def market_dynamics(society, parameters):\n",
    "    for index, individual in enumerate(society):\n",
    "        return None\n",
    "\n",
    "    \n",
    "\n",
    "\n",
    "society = seed(10)\n",
    "parameters = initial_parameters(society, food_data)\n",
    "print(parameters)"
   ]
  }
 ],
 "metadata": {
  "kernelspec": {
   "display_name": "Python 3 (ipykernel)",
   "language": "python",
   "name": "python3"
  },
  "language_info": {
   "codemirror_mode": {
    "name": "ipython",
    "version": 3
   },
   "file_extension": ".py",
   "mimetype": "text/x-python",
   "name": "python",
   "nbconvert_exporter": "python",
   "pygments_lexer": "ipython3",
   "version": "3.9.5"
  },
  "orig_nbformat": 4
 },
 "nbformat": 4,
 "nbformat_minor": 2
}
